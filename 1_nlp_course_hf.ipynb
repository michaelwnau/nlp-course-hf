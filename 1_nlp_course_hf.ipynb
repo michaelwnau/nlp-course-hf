{
  "nbformat": 4,
  "nbformat_minor": 0,
  "metadata": {
    "colab": {
      "private_outputs": true,
      "provenance": [],
      "authorship_tag": "ABX9TyOewImpmbURRowd+HbMygqf",
      "include_colab_link": true
    },
    "kernelspec": {
      "name": "python3",
      "display_name": "Python 3"
    },
    "language_info": {
      "name": "python"
    }
  },
  "cells": [
    {
      "cell_type": "markdown",
      "metadata": {
        "id": "view-in-github",
        "colab_type": "text"
      },
      "source": [
        "<a href=\"https://colab.research.google.com/github/michaelwnau/nlp-course-hf/blob/main/1_nlp_course_hf.ipynb\" target=\"_parent\"><img src=\"https://colab.research.google.com/assets/colab-badge.svg\" alt=\"Open In Colab\"/></a>"
      ]
    },
    {
      "cell_type": "markdown",
      "source": [
        "# **NLP Without Tears**\n"
      ],
      "metadata": {
        "id": "vYHkauNVftr4"
      }
    },
    {
      "cell_type": "code",
      "execution_count": null,
      "metadata": {
        "id": "XLiMabQm9Wbh"
      },
      "outputs": [],
      "source": [
        "!pip install transformers[sentencepiece]"
      ]
    },
    {
      "cell_type": "code",
      "source": [
        "from google.colab import userdata\n",
        "userdata.get('HF_Token')"
      ],
      "metadata": {
        "id": "Yiieikh9AL-i"
      },
      "execution_count": null,
      "outputs": []
    },
    {
      "cell_type": "code",
      "source": [
        "from transformers import pipeline\n",
        "\n",
        "classifier = pipeline(\"sentiment-analysis\")\n",
        "classifier(\"I've been waiting for a HuggingFace course my whole life.\")"
      ],
      "metadata": {
        "id": "Dhjl5JLf_D28"
      },
      "execution_count": null,
      "outputs": []
    },
    {
      "cell_type": "markdown",
      "source": [
        "## Zero-shot classification"
      ],
      "metadata": {
        "id": "E0HUX60YBcnL"
      }
    },
    {
      "cell_type": "code",
      "source": [
        "from transformers import pipeline\n",
        "\n",
        "classifier = pipeline(\"zero-shot-classification\")\n",
        "classifier(\n",
        "    \"This is a course about the Transformers library\",\n",
        "    candidate_labels=[\"education\", \"politics\", \"business\"],\n",
        ")"
      ],
      "metadata": {
        "id": "eVmWbztWBi5E"
      },
      "execution_count": null,
      "outputs": []
    },
    {
      "cell_type": "markdown",
      "source": [
        "## Text generation"
      ],
      "metadata": {
        "id": "pcMRjJUMB26P"
      }
    },
    {
      "cell_type": "code",
      "source": [
        "from transformers import Pipeline\n",
        "\n",
        "generator = pipeline(\"text-generation\")\n",
        "generator(\"In this course from, we will teach you how to\",\n",
        "          num_return_sequences=2,\n",
        "          max_length=15\n",
        "          )"
      ],
      "metadata": {
        "id": "Lm_MUuwQBqFC"
      },
      "execution_count": null,
      "outputs": []
    },
    {
      "cell_type": "code",
      "source": [],
      "metadata": {
        "id": "tFt1nZmoB_0E"
      },
      "execution_count": null,
      "outputs": []
    },
    {
      "cell_type": "markdown",
      "source": [
        "## **Sources**\n",
        "\n",
        "```\n",
        "@misc{huggingfacecourse,\n",
        "  author = {Hugging Face},\n",
        "  title = {The Hugging Face Course, 2022},\n",
        "  howpublished = \"\\url{https://huggingface.co/course}\",\n",
        "  year = {2022},\n",
        "  note = \"[Online; accessed <today>]\"\n",
        "}\n",
        "```\n",
        "\n"
      ],
      "metadata": {
        "id": "J6q7FDry-Lpz"
      }
    }
  ]
}